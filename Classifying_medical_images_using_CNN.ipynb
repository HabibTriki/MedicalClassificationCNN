{
  "nbformat": 4,
  "nbformat_minor": 0,
  "metadata": {
    "colab": {
      "provenance": [],
      "include_colab_link": true
    },
    "kernelspec": {
      "name": "python3",
      "display_name": "Python 3"
    },
    "language_info": {
      "name": "python"
    }
  },
  "cells": [
    {
      "cell_type": "markdown",
      "metadata": {
        "id": "view-in-github",
        "colab_type": "text"
      },
      "source": [
        "<a href=\"https://colab.research.google.com/github/HabibTriki/MedicalClassificationCNN/blob/main/Classifying_medical_images_using_CNN.ipynb\" target=\"_parent\"><img src=\"https://colab.research.google.com/assets/colab-badge.svg\" alt=\"Open In Colab\"/></a>"
      ]
    },
    {
      "cell_type": "code",
      "execution_count": null,
      "metadata": {
        "id": "CRjsIX30GtVH",
        "colab": {
          "base_uri": "https://localhost:8080/"
        },
        "outputId": "079c8342-26dc-4f79-e0dc-3a8fcd4bb009"
      },
      "outputs": [
        {
          "output_type": "stream",
          "name": "stdout",
          "text": [
            "--2024-02-16 22:43:14--  https://cainvas-static.s3.amazonaws.com/media/user_data/cainvas-admin/MedNIST.zip\n",
            "Resolving cainvas-static.s3.amazonaws.com (cainvas-static.s3.amazonaws.com)... 52.219.66.112, 52.219.160.103, 52.219.66.96, ...\n",
            "Connecting to cainvas-static.s3.amazonaws.com (cainvas-static.s3.amazonaws.com)|52.219.66.112|:443... connected.\n",
            "HTTP request sent, awaiting response... 200 OK\n",
            "Length: 110557154 (105M) [application/x-zip-compressed]\n",
            "Saving to: ‘MedNIST.zip’\n",
            "\n",
            "MedNIST.zip         100%[===================>] 105.43M  12.6MB/s    in 10s     \n",
            "\n",
            "2024-02-16 22:43:25 (10.4 MB/s) - ‘MedNIST.zip’ saved [110557154/110557154]\n",
            "\n"
          ]
        }
      ],
      "source": [
        "!wget -N \"https://cainvas-static.s3.amazonaws.com/media/user_data/cainvas-admin/MedNIST.zip\"\n",
        "!unzip -qo \"MedNIST.zip\"\n",
        "!rm \"MedNIST.zip\""
      ]
    },
    {
      "cell_type": "code",
      "source": [
        "test_dir = \"Medical/Medical_test\"\n",
        "train_dir = \"Medical/Medical_train\""
      ],
      "metadata": {
        "id": "USwqSQmZFtwf"
      },
      "execution_count": null,
      "outputs": []
    },
    {
      "cell_type": "code",
      "source": [
        "import os\n",
        "import numpy as np\n",
        "import pandas as pd\n",
        "import random, datetime, os, shutil, math"
      ],
      "metadata": {
        "id": "kgE5GzNjFwjL"
      },
      "execution_count": null,
      "outputs": []
    },
    {
      "cell_type": "code",
      "source": [
        "def prep_test_data(med, train_dir , test_dir):\n",
        "  pop = os.listdir(train_dir+'/'+med)\n",
        "  test_data=random.sample(pop,2000)\n",
        "  #print(test_data)\n",
        "  for f in test_data :\n",
        "    shutil.copy(train_dir+'/'+med+'/'+f,test_dir+'/'+med+'/')\n",
        "for medi in os.listdir(train_dir):\n",
        "  prep_test_data(medi,train_dir,test_dir)"
      ],
      "metadata": {
        "id": "cIiG1LnxF2Jv"
      },
      "execution_count": null,
      "outputs": []
    },
    {
      "cell_type": "markdown",
      "source": [
        "target_classes = os.listdir(train_dir)\n",
        "num_classes = len(target_classes)\n",
        "print('Number of target classes:', num_classes)\n",
        "print(list(enumerate(target_classes)))"
      ],
      "metadata": {
        "id": "q3RZR0iQHOWH"
      }
    },
    {
      "cell_type": "code",
      "source": [
        "target_classes = os.listdir(train_dir)\n",
        "num_classes = len(target_classes)\n",
        "print('Number of target classes:', num_classes)\n",
        "print(list(enumerate(target_classes)))"
      ],
      "metadata": {
        "colab": {
          "base_uri": "https://localhost:8080/"
        },
        "id": "trGtybErHSS-",
        "outputId": "ab6e46cc-067a-4098-e0f3-d5c7d1e35ee7"
      },
      "execution_count": null,
      "outputs": [
        {
          "output_type": "stream",
          "name": "stdout",
          "text": [
            "Number of target classes: 6\n",
            "[(0, 'BreastMRI'), (1, 'AbdomenCT'), (2, 'ChestCT'), (3, 'HeadCT'), (4, 'Hand'), (5, 'CXR')]\n"
          ]
        }
      ]
    },
    {
      "cell_type": "markdown",
      "source": [],
      "metadata": {
        "id": "Ln8A5J6dHNXA"
      }
    },
    {
      "cell_type": "code",
      "source": [
        "training_set_distribution = [len(os.listdir(os.path.join(train_dir,\n",
        "dir))) for dir in os.listdir(train_dir)]\n",
        "testing_set_distribution = [len(os.listdir(os.path.join(test_dir,\n",
        "dir))) for dir in os.listdir(test_dir)]"
      ],
      "metadata": {
        "id": "GRLCoEknHUMc"
      },
      "execution_count": null,
      "outputs": []
    },
    {
      "cell_type": "code",
      "source": [
        "def show_mri(med):\n",
        "  num=len(med)\n",
        "  if(num==0):\n",
        "    return None\n",
        "  rows = int(math.sqrt(num))\n",
        "  cols=(num+1)//rows\n",
        "  f, axs = plt.subplots(rows, cols)\n",
        "  fig = 0\n",
        "  for b in med:\n",
        "    img = image.load_img(b)\n",
        "    row = fig // cols\n",
        "    col = fig % cols\n",
        "    axs[row, col].imshow(img)\n",
        "    fig += 1\n",
        "  plt.show()"
      ],
      "metadata": {
        "id": "iE69tkWNHcZ8"
      },
      "execution_count": null,
      "outputs": []
    },
    {
      "cell_type": "code",
      "source": [
        "import matplotlib.pyplot as plt\n",
        "from matplotlib.image import imread\n",
        "from tensorflow.keras.preprocessing.image import ImageDataGenerator\n",
        "from tensorflow.keras.preprocessing import image"
      ],
      "metadata": {
        "id": "s3dmzNTnH-hV"
      },
      "execution_count": null,
      "outputs": []
    },
    {
      "cell_type": "code",
      "source": [
        "dir_name = os.path.join(train_dir,\"AbdomenCT\")\n",
        "all_images = [os.path.join(dir_name, fname) for fname in os.listdir(dir_name)]\n",
        "show_mri(all_images[:9])"
      ],
      "metadata": {
        "colab": {
          "base_uri": "https://localhost:8080/",
          "height": 434
        },
        "id": "ZAL7j-BMIBOI",
        "outputId": "22ffc6be-271f-46ba-d703-81b350e6bc38"
      },
      "execution_count": null,
      "outputs": [
        {
          "output_type": "display_data",
          "data": {
            "text/plain": [
              "<Figure size 640x480 with 9 Axes>"
            ],
            "image/png": "[encoded data removed]"
          },
          "metadata": {}
        }
      ]
    },
    {
      "cell_type": "code",
      "source": [
        "image_size = (32, 32, 3)\n",
        "datagen=ImageDataGenerator(rescale = 1./255,\n",
        "                           shear_range=0.2,\n",
        "                           zoom_range=0.2,\n",
        "                           horizontal_flip=True,\n",
        "                           )"
      ],
      "metadata": {
        "id": "mQ9KAu3TJNZn"
      },
      "execution_count": null,
      "outputs": []
    },
    {
      "cell_type": "code",
      "source": [
        "training_set=datagen.flow_from_directory(train_dir,\n",
        "                                         target_size=image_size[:2],\n",
        "                                         batch_size=32,\n",
        "                                         class_mode='categorical',\n",
        "                                         shuffle=False\n",
        "                                         #color_mode='rgb'\n",
        "                                         )"
      ],
      "metadata": {
        "colab": {
          "base_uri": "https://localhost:8080/"
        },
        "id": "GdJREiuhKAnW",
        "outputId": "e62c50f9-396e-4717-d5f7-c462428a0231"
      },
      "execution_count": null,
      "outputs": [
        {
          "output_type": "stream",
          "name": "stdout",
          "text": [
            "Found 58954 images belonging to 6 classes.\n"
          ]
        }
      ]
    },
    {
      "cell_type": "code",
      "source": [
        "validation_set=datagen.flow_from_directory(test_dir,\n",
        "                                           target_size=image_size[:2],\n",
        "                                           batch_size=32,\n",
        "                                           class_mode='categorical',\n",
        "                                           shuffle=False\n",
        "                                           )"
      ],
      "metadata": {
        "colab": {
          "base_uri": "https://localhost:8080/"
        },
        "id": "Uu3riatNKSar",
        "outputId": "51864c7f-b3b1-417a-b1d4-a2404233b170"
      },
      "execution_count": null,
      "outputs": [
        {
          "output_type": "stream",
          "name": "stdout",
          "text": [
            "Found 21580 images belonging to 6 classes.\n"
          ]
        }
      ]
    },
    {
      "cell_type": "code",
      "source": [
        "from tensorflow.keras.callbacks import ModelCheckpoint, EarlyStopping\n",
        "from tensorflow.keras.callbacks import ReduceLROnPlateau\n",
        "from tensorflow.keras.models import Sequential\n",
        "from tensorflow.keras.layers import Conv2D, MaxPooling2D, Flatten, Dense\n",
        "from tensorflow.keras.utils import plot_model"
      ],
      "metadata": {
        "id": "sOC5TzEpKals"
      },
      "execution_count": null,
      "outputs": []
    },
    {
      "cell_type": "code",
      "source": [
        "es = EarlyStopping(monitor='val_acc', mode='max', verbose=1, patience=7)\n",
        "filepath = \"modelMedicalMNIST.h5\"\n",
        "ckpt = ModelCheckpoint(filepath, monitor='acc', verbose=1, save_best_only=True, mode='max')\n",
        "rlp = ReduceLROnPlateau(monitor='acc', patience=3, verbose=1)"
      ],
      "metadata": {
        "id": "JdaLO69lLSeY"
      },
      "execution_count": null,
      "outputs": []
    },
    {
      "cell_type": "code",
      "source": [
        "def cnn(image_size, num_classes):\n",
        "    classifier = Sequential()\n",
        "    classifier.add(Conv2D(64, (5, 5), input_shape=image_size, activation='relu', padding='same'))\n",
        "    classifier.add(MaxPooling2D(pool_size = (2, 2)))\n",
        "    classifier.add(Conv2D(128, (3, 3), activation='relu', padding='same'))\n",
        "    classifier.add(MaxPooling2D(pool_size = (2, 2)))\n",
        "    classifier.add(Flatten())\n",
        "    classifier.add(Dense(num_classes, activation = 'softmax'))\n",
        "    classifier.compile(optimizer='adam', loss='categorical_crossentropy', metrics=['acc'])\n",
        "    return classifier\n",
        "\n",
        "neuralnetwork_cnn = cnn(image_size, num_classes)\n",
        "neuralnetwork_cnn.summary()\n",
        "#plot_model(neuralnetwork_cnn, show_shapes=True)"
      ],
      "metadata": {
        "colab": {
          "base_uri": "https://localhost:8080/"
        },
        "id": "fwRGYnD8LXlr",
        "outputId": "64423df2-6c5b-4090-a750-ec11768a91c9"
      },
      "execution_count": null,
      "outputs": [
        {
          "output_type": "stream",
          "name": "stdout",
          "text": [
            "Model: \"sequential\"\n",
            "_________________________________________________________________\n",
            " Layer (type)                Output Shape              Param #   \n",
            "=================================================================\n",
            " conv2d (Conv2D)             (None, 32, 32, 64)        4864      \n",
            "                                                                 \n",
            " max_pooling2d (MaxPooling2  (None, 16, 16, 64)        0         \n",
            " D)                                                              \n",
            "                                                                 \n",
            " conv2d_1 (Conv2D)           (None, 16, 16, 128)       73856     \n",
            "                                                                 \n",
            " max_pooling2d_1 (MaxPoolin  (None, 8, 8, 128)         0         \n",
            " g2D)                                                            \n",
            "                                                                 \n",
            " flatten (Flatten)           (None, 8192)              0         \n",
            "                                                                 \n",
            " dense (Dense)               (None, 6)                 49158     \n",
            "                                                                 \n",
            "=================================================================\n",
            "Total params: 127878 (499.52 KB)\n",
            "Trainable params: 127878 (499.52 KB)\n",
            "Non-trainable params: 0 (0.00 Byte)\n",
            "_________________________________________________________________\n"
          ]
        }
      ]
    },
    {
      "cell_type": "code",
      "source": [
        "history = neuralnetwork_cnn.fit_generator(\n",
        "    generator=training_set, validation_data=validation_set,\n",
        "    callbacks=[es, ckpt, rlp], epochs = 5,\n",
        ")"
      ],
      "metadata": {
        "colab": {
          "base_uri": "https://localhost:8080/"
        },
        "id": "2neipiwML3Id",
        "outputId": "40094129-9f98-4665-cf37-d38d56af7788"
      },
      "execution_count": null,
      "outputs": [
        {
          "output_type": "stream",
          "name": "stdout",
          "text": [
            "Epoch 1/5\n"
          ]
        },
        {
          "output_type": "stream",
          "name": "stderr",
          "text": [
            "<ipython-input-19-d53212ee6f04>:1: UserWarning: `Model.fit_generator` is deprecated and will be removed in a future version. Please use `Model.fit`, which supports generators.\n",
            "  history = neuralnetwork_cnn.fit_generator(\n"
          ]
        },
        {
          "output_type": "stream",
          "name": "stdout",
          "text": [
            "1843/1843 [==============================] - ETA: 0s - loss: 0.2204 - acc: 0.9315\n",
            "Epoch 1: acc improved from -inf to 0.93147, saving model to modelMedicalMNIST.h5\n",
            "1843/1843 [==============================] - 298s 161ms/step - loss: 0.2204 - acc: 0.9315 - val_loss: 0.0400 - val_acc: 0.9920 - lr: 0.0010\n"
          ]
        },
        {
          "output_type": "stream",
          "name": "stderr",
          "text": [
            "/usr/local/lib/python3.10/dist-packages/keras/src/engine/training.py:3103: UserWarning: You are saving your model as an HDF5 file via `model.save()`. This file format is considered legacy. We recommend using instead the native Keras format, e.g. `model.save('my_model.keras')`.\n",
            "  saving_api.save_model(\n"
          ]
        },
        {
          "output_type": "stream",
          "name": "stdout",
          "text": [
            "Epoch 2/5\n",
            "1843/1843 [==============================] - ETA: 0s - loss: 0.0407 - acc: 0.9895\n",
            "Epoch 2: acc improved from 0.93147 to 0.98948, saving model to modelMedicalMNIST.h5\n",
            "1843/1843 [==============================] - 292s 158ms/step - loss: 0.0407 - acc: 0.9895 - val_loss: 0.0129 - val_acc: 0.9972 - lr: 0.0010\n",
            "Epoch 3/5\n",
            "1843/1843 [==============================] - ETA: 0s - loss: 0.0166 - acc: 0.9957\n",
            "Epoch 3: acc improved from 0.98948 to 0.99567, saving model to modelMedicalMNIST.h5\n",
            "1843/1843 [==============================] - 285s 155ms/step - loss: 0.0166 - acc: 0.9957 - val_loss: 0.0212 - val_acc: 0.9945 - lr: 0.0010\n",
            "Epoch 4/5\n",
            "1843/1843 [==============================] - ETA: 0s - loss: 0.0191 - acc: 0.9945\n",
            "Epoch 4: acc did not improve from 0.99567\n",
            "1843/1843 [==============================] - 291s 158ms/step - loss: 0.0191 - acc: 0.9945 - val_loss: 0.0066 - val_acc: 0.9981 - lr: 0.0010\n",
            "Epoch 5/5\n",
            "1843/1843 [==============================] - ETA: 0s - loss: 0.0932 - acc: 0.9896\n",
            "Epoch 5: acc did not improve from 0.99567\n",
            "1843/1843 [==============================] - 286s 155ms/step - loss: 0.0932 - acc: 0.9896 - val_loss: 0.0116 - val_acc: 0.9975 - lr: 0.0010\n"
          ]
        }
      ]
    },
    {
      "cell_type": "markdown",
      "source": [
        "fig, ax = plt.subplots(figsize=(20, 6))\n",
        "pd.DataFrame(history.history).iloc[:, :-1].plot(ax=ax)"
      ],
      "metadata": {
        "id": "f_q2sUl_blAf"
      }
    },
    {
      "cell_type": "code",
      "source": [
        "batch_size=32\n",
        "pred=neuralnetwork_cnn.predict_generator(validation_set,steps=306/batch_size)\n",
        "predicted_class_indices=np.argmax(pred,axis=1)\n"
      ],
      "metadata": {
        "colab": {
          "base_uri": "https://localhost:8080/"
        },
        "id": "oOu4-uj7KECC",
        "outputId": "177fc4ca-da35-4a47-eb3d-a914deeb91e4"
      },
      "execution_count": null,
      "outputs": [
        {
          "output_type": "stream",
          "name": "stderr",
          "text": [
            "<ipython-input-21-e16df5100bce>:2: UserWarning: `Model.predict_generator` is deprecated and will be removed in a future version. Please use `Model.predict`, which supports generators.\n",
            "  pred=neuralnetwork_cnn.predict_generator(validation_set,steps=306/batch_size)\n"
          ]
        }
      ]
    },
    {
      "cell_type": "code",
      "source": [
        "labels = (validation_set.class_indices)\n",
        "labels = dict((v,k) for k,v in labels.items())\n",
        "predictions = [labels[k] for k in predicted_class_indices]"
      ],
      "metadata": {
        "id": "eST2TxgrcAmW"
      },
      "execution_count": null,
      "outputs": []
    },
    {
      "cell_type": "code",
      "source": [
        "filenames=validation_set.filenames[0]\n",
        "results=pd.DataFrame({\"Filename\":filenames,\n",
        "                      \"Predictions\":predictions})\n",
        "display(results.head(50))"
      ],
      "metadata": {
        "id": "K1Vx2BKPcFvN",
        "outputId": "4293887d-60fa-433e-ba13-6f635da555ba",
        "colab": {
          "base_uri": "https://localhost:8080/",
          "height": 1000
        }
      },
      "execution_count": null,
      "outputs": [
        {
          "output_type": "display_data",
          "data": {
            "text/plain": [
              "                 Filename Predictions\n",
              "0   AbdomenCT/000000.jpeg   AbdomenCT\n",
              "1   AbdomenCT/000000.jpeg   AbdomenCT\n",
              "2   AbdomenCT/000000.jpeg   AbdomenCT\n",
              "3   AbdomenCT/000000.jpeg   AbdomenCT\n",
              "4   AbdomenCT/000000.jpeg   AbdomenCT\n",
              "5   AbdomenCT/000000.jpeg   AbdomenCT\n",
              "6   AbdomenCT/000000.jpeg   AbdomenCT\n",
              "7   AbdomenCT/000000.jpeg   AbdomenCT\n",
              "8   AbdomenCT/000000.jpeg   AbdomenCT\n",
              "9   AbdomenCT/000000.jpeg   AbdomenCT\n",
              "10  AbdomenCT/000000.jpeg   AbdomenCT\n",
              "11  AbdomenCT/000000.jpeg   AbdomenCT\n",
              "12  AbdomenCT/000000.jpeg   AbdomenCT\n",
              "13  AbdomenCT/000000.jpeg   AbdomenCT\n",
              "14  AbdomenCT/000000.jpeg   AbdomenCT\n",
              "15  AbdomenCT/000000.jpeg   AbdomenCT\n",
              "16  AbdomenCT/000000.jpeg   AbdomenCT\n",
              "17  AbdomenCT/000000.jpeg   AbdomenCT\n",
              "18  AbdomenCT/000000.jpeg   AbdomenCT\n",
              "19  AbdomenCT/000000.jpeg   AbdomenCT\n",
              "20  AbdomenCT/000000.jpeg   AbdomenCT\n",
              "21  AbdomenCT/000000.jpeg   AbdomenCT\n",
              "22  AbdomenCT/000000.jpeg   AbdomenCT\n",
              "23  AbdomenCT/000000.jpeg   AbdomenCT\n",
              "24  AbdomenCT/000000.jpeg   AbdomenCT\n",
              "25  AbdomenCT/000000.jpeg   AbdomenCT\n",
              "26  AbdomenCT/000000.jpeg   AbdomenCT\n",
              "27  AbdomenCT/000000.jpeg   AbdomenCT\n",
              "28  AbdomenCT/000000.jpeg   AbdomenCT\n",
              "29  AbdomenCT/000000.jpeg   AbdomenCT\n",
              "30  AbdomenCT/000000.jpeg   AbdomenCT\n",
              "31  AbdomenCT/000000.jpeg   AbdomenCT\n",
              "32  AbdomenCT/000000.jpeg   AbdomenCT\n",
              "33  AbdomenCT/000000.jpeg   AbdomenCT\n",
              "34  AbdomenCT/000000.jpeg   AbdomenCT\n",
              "35  AbdomenCT/000000.jpeg   AbdomenCT\n",
              "36  AbdomenCT/000000.jpeg   AbdomenCT\n",
              "37  AbdomenCT/000000.jpeg   AbdomenCT\n",
              "38  AbdomenCT/000000.jpeg   AbdomenCT\n",
              "39  AbdomenCT/000000.jpeg   AbdomenCT\n",
              "40  AbdomenCT/000000.jpeg   AbdomenCT\n",
              "41  AbdomenCT/000000.jpeg   AbdomenCT\n",
              "42  AbdomenCT/000000.jpeg   AbdomenCT\n",
              "43  AbdomenCT/000000.jpeg   AbdomenCT\n",
              "44  AbdomenCT/000000.jpeg   AbdomenCT\n",
              "45  AbdomenCT/000000.jpeg   AbdomenCT\n",
              "46  AbdomenCT/000000.jpeg   AbdomenCT\n",
              "47  AbdomenCT/000000.jpeg   AbdomenCT\n",
              "48  AbdomenCT/000000.jpeg   AbdomenCT\n",
              "49  AbdomenCT/000000.jpeg   AbdomenCT"
            ],
            "text/html": [
              "\n",
              "  <div id=\"df-ec8cded3-bf1c-4bcc-9a9f-4a9f572a7bbf\" class=\"colab-df-container\">\n",
              "    <div>\n",
              "<style scoped>\n",
              "    .dataframe tbody tr th:only-of-type {\n",
              "        vertical-align: middle;\n",
              "    }\n",
              "\n",
              "    .dataframe tbody tr th {\n",
              "        vertical-align: top;\n",
              "    }\n",
              "\n",
              "    .dataframe thead th {\n",
              "        text-align: right;\n",
              "    }\n",
              "</style>\n",
              "<table border=\"1\" class=\"dataframe\">\n",
              "  <thead>\n",
              "    <tr style=\"text-align: right;\">\n",
              "      <th></th>\n",
              "      <th>Filename</th>\n",
              "      <th>Predictions</th>\n",
              "    </tr>\n",
              "  </thead>\n",
              "  <tbody>\n",
              "    <tr>\n",
              "      <th>0</th>\n",
              "      <td>AbdomenCT/000000.jpeg</td>\n",
              "      <td>AbdomenCT</td>\n",
              "    </tr>\n",
              "    <tr>\n",
              "      <th>1</th>\n",
              "      <td>AbdomenCT/000000.jpeg</td>\n",
              "      <td>AbdomenCT</td>\n",
              "    </tr>\n",
              "    <tr>\n",
              "      <th>2</th>\n",
              "      <td>AbdomenCT/000000.jpeg</td>\n",
              "      <td>AbdomenCT</td>\n",
              "    </tr>\n",
              "    <tr>\n",
              "      <th>3</th>\n",
              "      <td>AbdomenCT/000000.jpeg</td>\n",
              "      <td>AbdomenCT</td>\n",
              "    </tr>\n",
              "    <tr>\n",
              "      <th>4</th>\n",
              "      <td>AbdomenCT/000000.jpeg</td>\n",
              "      <td>AbdomenCT</td>\n",
              "    </tr>\n",
              "    <tr>\n",
              "      <th>5</th>\n",
              "      <td>AbdomenCT/000000.jpeg</td>\n",
              "      <td>AbdomenCT</td>\n",
              "    </tr>\n",
              "    <tr>\n",
              "      <th>6</th>\n",
              "      <td>AbdomenCT/000000.jpeg</td>\n",
              "      <td>AbdomenCT</td>\n",
              "    </tr>\n",
              "    <tr>\n",
              "      <th>7</th>\n",
              "      <td>AbdomenCT/000000.jpeg</td>\n",
              "      <td>AbdomenCT</td>\n",
              "    </tr>\n",
              "    <tr>\n",
              "      <th>8</th>\n",
              "      <td>AbdomenCT/000000.jpeg</td>\n",
              "      <td>AbdomenCT</td>\n",
              "    </tr>\n",
              "    <tr>\n",
              "      <th>9</th>\n",
              "      <td>AbdomenCT/000000.jpeg</td>\n",
              "      <td>AbdomenCT</td>\n",
              "    </tr>\n",
              "    <tr>\n",
              "      <th>10</th>\n",
              "      <td>AbdomenCT/000000.jpeg</td>\n",
              "      <td>AbdomenCT</td>\n",
              "    </tr>\n",
              "    <tr>\n",
              "      <th>11</th>\n",
              "      <td>AbdomenCT/000000.jpeg</td>\n",
              "      <td>AbdomenCT</td>\n",
              "    </tr>\n",
              "    <tr>\n",
              "      <th>12</th>\n",
              "      <td>AbdomenCT/000000.jpeg</td>\n",
              "      <td>AbdomenCT</td>\n",
              "    </tr>\n",
              "    <tr>\n",
              "      <th>13</th>\n",
              "      <td>AbdomenCT/000000.jpeg</td>\n",
              "      <td>AbdomenCT</td>\n",
              "    </tr>\n",
              "    <tr>\n",
              "      <th>14</th>\n",
              "      <td>AbdomenCT/000000.jpeg</td>\n",
              "      <td>AbdomenCT</td>\n",
              "    </tr>\n",
              "    <tr>\n",
              "      <th>15</th>\n",
              "      <td>AbdomenCT/000000.jpeg</td>\n",
              "      <td>AbdomenCT</td>\n",
              "    </tr>\n",
              "    <tr>\n",
              "      <th>16</th>\n",
              "      <td>AbdomenCT/000000.jpeg</td>\n",
              "      <td>AbdomenCT</td>\n",
              "    </tr>\n",
              "    <tr>\n",
              "      <th>17</th>\n",
              "      <td>AbdomenCT/000000.jpeg</td>\n",
              "      <td>AbdomenCT</td>\n",
              "    </tr>\n",
              "    <tr>\n",
              "      <th>18</th>\n",
              "      <td>AbdomenCT/000000.jpeg</td>\n",
              "      <td>AbdomenCT</td>\n",
              "    </tr>\n",
              "    <tr>\n",
              "      <th>19</th>\n",
              "      <td>AbdomenCT/000000.jpeg</td>\n",
              "      <td>AbdomenCT</td>\n",
              "    </tr>\n",
              "    <tr>\n",
              "      <th>20</th>\n",
              "      <td>AbdomenCT/000000.jpeg</td>\n",
              "      <td>AbdomenCT</td>\n",
              "    </tr>\n",
              "    <tr>\n",
              "      <th>21</th>\n",
              "      <td>AbdomenCT/000000.jpeg</td>\n",
              "      <td>AbdomenCT</td>\n",
              "    </tr>\n",
              "    <tr>\n",
              "      <th>22</th>\n",
              "      <td>AbdomenCT/000000.jpeg</td>\n",
              "      <td>AbdomenCT</td>\n",
              "    </tr>\n",
              "    <tr>\n",
              "      <th>23</th>\n",
              "      <td>AbdomenCT/000000.jpeg</td>\n",
              "      <td>AbdomenCT</td>\n",
              "    </tr>\n",
              "    <tr>\n",
              "      <th>24</th>\n",
              "      <td>AbdomenCT/000000.jpeg</td>\n",
              "      <td>AbdomenCT</td>\n",
              "    </tr>\n",
              "    <tr>\n",
              "      <th>25</th>\n",
              "      <td>AbdomenCT/000000.jpeg</td>\n",
              "      <td>AbdomenCT</td>\n",
              "    </tr>\n",
              "    <tr>\n",
              "      <th>26</th>\n",
              "      <td>AbdomenCT/000000.jpeg</td>\n",
              "      <td>AbdomenCT</td>\n",
              "    </tr>\n",
              "    <tr>\n",
              "      <th>27</th>\n",
              "      <td>AbdomenCT/000000.jpeg</td>\n",
              "      <td>AbdomenCT</td>\n",
              "    </tr>\n",
              "    <tr>\n",
              "      <th>28</th>\n",
              "      <td>AbdomenCT/000000.jpeg</td>\n",
              "      <td>AbdomenCT</td>\n",
              "    </tr>\n",
              "    <tr>\n",
              "      <th>29</th>\n",
              "      <td>AbdomenCT/000000.jpeg</td>\n",
              "      <td>AbdomenCT</td>\n",
              "    </tr>\n",
              "    <tr>\n",
              "      <th>30</th>\n",
              "      <td>AbdomenCT/000000.jpeg</td>\n",
              "      <td>AbdomenCT</td>\n",
              "    </tr>\n",
              "    <tr>\n",
              "      <th>31</th>\n",
              "      <td>AbdomenCT/000000.jpeg</td>\n",
              "      <td>AbdomenCT</td>\n",
              "    </tr>\n",
              "    <tr>\n",
              "      <th>32</th>\n",
              "      <td>AbdomenCT/000000.jpeg</td>\n",
              "      <td>AbdomenCT</td>\n",
              "    </tr>\n",
              "    <tr>\n",
              "      <th>33</th>\n",
              "      <td>AbdomenCT/000000.jpeg</td>\n",
              "      <td>AbdomenCT</td>\n",
              "    </tr>\n",
              "    <tr>\n",
              "      <th>34</th>\n",
              "      <td>AbdomenCT/000000.jpeg</td>\n",
              "      <td>AbdomenCT</td>\n",
              "    </tr>\n",
              "    <tr>\n",
              "      <th>35</th>\n",
              "      <td>AbdomenCT/000000.jpeg</td>\n",
              "      <td>AbdomenCT</td>\n",
              "    </tr>\n",
              "    <tr>\n",
              "      <th>36</th>\n",
              "      <td>AbdomenCT/000000.jpeg</td>\n",
              "      <td>AbdomenCT</td>\n",
              "    </tr>\n",
              "    <tr>\n",
              "      <th>37</th>\n",
              "      <td>AbdomenCT/000000.jpeg</td>\n",
              "      <td>AbdomenCT</td>\n",
              "    </tr>\n",
              "    <tr>\n",
              "      <th>38</th>\n",
              "      <td>AbdomenCT/000000.jpeg</td>\n",
              "      <td>AbdomenCT</td>\n",
              "    </tr>\n",
              "    <tr>\n",
              "      <th>39</th>\n",
              "      <td>AbdomenCT/000000.jpeg</td>\n",
              "      <td>AbdomenCT</td>\n",
              "    </tr>\n",
              "    <tr>\n",
              "      <th>40</th>\n",
              "      <td>AbdomenCT/000000.jpeg</td>\n",
              "      <td>AbdomenCT</td>\n",
              "    </tr>\n",
              "    <tr>\n",
              "      <th>41</th>\n",
              "      <td>AbdomenCT/000000.jpeg</td>\n",
              "      <td>AbdomenCT</td>\n",
              "    </tr>\n",
              "    <tr>\n",
              "      <th>42</th>\n",
              "      <td>AbdomenCT/000000.jpeg</td>\n",
              "      <td>AbdomenCT</td>\n",
              "    </tr>\n",
              "    <tr>\n",
              "      <th>43</th>\n",
              "      <td>AbdomenCT/000000.jpeg</td>\n",
              "      <td>AbdomenCT</td>\n",
              "    </tr>\n",
              "    <tr>\n",
              "      <th>44</th>\n",
              "      <td>AbdomenCT/000000.jpeg</td>\n",
              "      <td>AbdomenCT</td>\n",
              "    </tr>\n",
              "    <tr>\n",
              "      <th>45</th>\n",
              "      <td>AbdomenCT/000000.jpeg</td>\n",
              "      <td>AbdomenCT</td>\n",
              "    </tr>\n",
              "    <tr>\n",
              "      <th>46</th>\n",
              "      <td>AbdomenCT/000000.jpeg</td>\n",
              "      <td>AbdomenCT</td>\n",
              "    </tr>\n",
              "    <tr>\n",
              "      <th>47</th>\n",
              "      <td>AbdomenCT/000000.jpeg</td>\n",
              "      <td>AbdomenCT</td>\n",
              "    </tr>\n",
              "    <tr>\n",
              "      <th>48</th>\n",
              "      <td>AbdomenCT/000000.jpeg</td>\n",
              "      <td>AbdomenCT</td>\n",
              "    </tr>\n",
              "    <tr>\n",
              "      <th>49</th>\n",
              "      <td>AbdomenCT/000000.jpeg</td>\n",
              "      <td>AbdomenCT</td>\n",
              "    </tr>\n",
              "  </tbody>\n",
              "</table>\n",
              "</div>\n",
              "    <div class=\"colab-df-buttons\">\n",
              "\n",
              "  <div class=\"colab-df-container\">\n",
              "    <button class=\"colab-df-convert\" onclick=\"convertToInteractive('df-ec8cded3-bf1c-4bcc-9a9f-4a9f572a7bbf')\"\n",
              "            title=\"Convert this dataframe to an interactive table.\"\n",
              "            style=\"display:none;\">\n",
              "\n",
              "  <svg xmlns=\"http://www.w3.org/2000/svg\" height=\"24px\" viewBox=\"0 -960 960 960\">\n",
              "    <path d=\"M120-120v-720h720v720H120Zm60-500h600v-160H180v160Zm220 220h160v-160H400v160Zm0 220h160v-160H400v160ZM180-400h160v-160H180v160Zm440 0h160v-160H620v160ZM180-180h160v-160H180v160Zm440 0h160v-160H620v160Z\"/>\n",
              "  </svg>\n",
              "    </button>\n",
              "\n",
              "  <style>\n",
              "    .colab-df-container {\n",
              "      display:flex;\n",
              "      gap: 12px;\n",
              "    }\n",
              "\n",
              "    .colab-df-convert {\n",
              "      background-color: #E8F0FE;\n",
              "      border: none;\n",
              "      border-radius: 50%;\n",
              "      cursor: pointer;\n",
              "      display: none;\n",
              "      fill: #1967D2;\n",
              "      height: 32px;\n",
              "      padding: 0 0 0 0;\n",
              "      width: 32px;\n",
              "    }\n",
              "\n",
              "    .colab-df-convert:hover {\n",
              "      background-color: #E2EBFA;\n",
              "      box-shadow: 0px 1px 2px rgba(60, 64, 67, 0.3), 0px 1px 3px 1px rgba(60, 64, 67, 0.15);\n",
              "      fill: #174EA6;\n",
              "    }\n",
              "\n",
              "    .colab-df-buttons div {\n",
              "      margin-bottom: 4px;\n",
              "    }\n",
              "\n",
              "    [theme=dark] .colab-df-convert {\n",
              "      background-color: #3B4455;\n",
              "      fill: #D2E3FC;\n",
              "    }\n",
              "\n",
              "    [theme=dark] .colab-df-convert:hover {\n",
              "      background-color: #434B5C;\n",
              "      box-shadow: 0px 1px 3px 1px rgba(0, 0, 0, 0.15);\n",
              "      filter: drop-shadow(0px 1px 2px rgba(0, 0, 0, 0.3));\n",
              "      fill: #FFFFFF;\n",
              "    }\n",
              "  </style>\n",
              "\n",
              "    <script>\n",
              "      const buttonEl =\n",
              "        document.querySelector('#df-ec8cded3-bf1c-4bcc-9a9f-4a9f572a7bbf button.colab-df-convert');\n",
              "      buttonEl.style.display =\n",
              "        google.colab.kernel.accessAllowed ? 'block' : 'none';\n",
              "\n",
              "      async function convertToInteractive(key) {\n",
              "        const element = document.querySelector('#df-ec8cded3-bf1c-4bcc-9a9f-4a9f572a7bbf');\n",
              "        const dataTable =\n",
              "          await google.colab.kernel.invokeFunction('convertToInteractive',\n",
              "                                                    [key], {});\n",
              "        if (!dataTable) return;\n",
              "\n",
              "        const docLinkHtml = 'Like what you see? Visit the ' +\n",
              "          '<a target=\"_blank\" href=https://colab.research.google.com/notebooks/data_table.ipynb>data table notebook</a>'\n",
              "          + ' to learn more about interactive tables.';\n",
              "        element.innerHTML = '';\n",
              "        dataTable['output_type'] = 'display_data';\n",
              "        await google.colab.output.renderOutput(dataTable, element);\n",
              "        const docLink = document.createElement('div');\n",
              "        docLink.innerHTML = docLinkHtml;\n",
              "        element.appendChild(docLink);\n",
              "      }\n",
              "    </script>\n",
              "  </div>\n",
              "\n",
              "\n",
              "<div id=\"df-edc4f379-d77a-4c12-8995-250dbdd6d676\">\n",
              "  <button class=\"colab-df-quickchart\" onclick=\"quickchart('df-edc4f379-d77a-4c12-8995-250dbdd6d676')\"\n",
              "            title=\"Suggest charts\"\n",
              "            style=\"display:none;\">\n",
              "\n",
              "<svg xmlns=\"http://www.w3.org/2000/svg\" height=\"24px\"viewBox=\"0 0 24 24\"\n",
              "     width=\"24px\">\n",
              "    <g>\n",
              "        <path d=\"M19 3H5c-1.1 0-2 .9-2 2v14c0 1.1.9 2 2 2h14c1.1 0 2-.9 2-2V5c0-1.1-.9-2-2-2zM9 17H7v-7h2v7zm4 0h-2V7h2v10zm4 0h-2v-4h2v4z\"/>\n",
              "    </g>\n",
              "</svg>\n",
              "  </button>\n",
              "\n",
              "<style>\n",
              "  .colab-df-quickchart {\n",
              "      --bg-color: #E8F0FE;\n",
              "      --fill-color: #1967D2;\n",
              "      --hover-bg-color: #E2EBFA;\n",
              "      --hover-fill-color: #174EA6;\n",
              "      --disabled-fill-color: #AAA;\n",
              "      --disabled-bg-color: #DDD;\n",
              "  }\n",
              "\n",
              "  [theme=dark] .colab-df-quickchart {\n",
              "      --bg-color: #3B4455;\n",
              "      --fill-color: #D2E3FC;\n",
              "      --hover-bg-color: #434B5C;\n",
              "      --hover-fill-color: #FFFFFF;\n",
              "      --disabled-bg-color: #3B4455;\n",
              "      --disabled-fill-color: #666;\n",
              "  }\n",
              "\n",
              "  .colab-df-quickchart {\n",
              "    background-color: var(--bg-color);\n",
              "    border: none;\n",
              "    border-radius: 50%;\n",
              "    cursor: pointer;\n",
              "    display: none;\n",
              "    fill: var(--fill-color);\n",
              "    height: 32px;\n",
              "    padding: 0;\n",
              "    width: 32px;\n",
              "  }\n",
              "\n",
              "  .colab-df-quickchart:hover {\n",
              "    background-color: var(--hover-bg-color);\n",
              "    box-shadow: 0 1px 2px rgba(60, 64, 67, 0.3), 0 1px 3px 1px rgba(60, 64, 67, 0.15);\n",
              "    fill: var(--button-hover-fill-color);\n",
              "  }\n",
              "\n",
              "  .colab-df-quickchart-complete:disabled,\n",
              "  .colab-df-quickchart-complete:disabled:hover {\n",
              "    background-color: var(--disabled-bg-color);\n",
              "    fill: var(--disabled-fill-color);\n",
              "    box-shadow: none;\n",
              "  }\n",
              "\n",
              "  .colab-df-spinner {\n",
              "    border: 2px solid var(--fill-color);\n",
              "    border-color: transparent;\n",
              "    border-bottom-color: var(--fill-color);\n",
              "    animation:\n",
              "      spin 1s steps(1) infinite;\n",
              "  }\n",
              "\n",
              "  @keyframes spin {\n",
              "    0% {\n",
              "      border-color: transparent;\n",
              "      border-bottom-color: var(--fill-color);\n",
              "      border-left-color: var(--fill-color);\n",
              "    }\n",
              "    20% {\n",
              "      border-color: transparent;\n",
              "      border-left-color: var(--fill-color);\n",
              "      border-top-color: var(--fill-color);\n",
              "    }\n",
              "    30% {\n",
              "      border-color: transparent;\n",
              "      border-left-color: var(--fill-color);\n",
              "      border-top-color: var(--fill-color);\n",
              "      border-right-color: var(--fill-color);\n",
              "    }\n",
              "    40% {\n",
              "      border-color: transparent;\n",
              "      border-right-color: var(--fill-color);\n",
              "      border-top-color: var(--fill-color);\n",
              "    }\n",
              "    60% {\n",
              "      border-color: transparent;\n",
              "      border-right-color: var(--fill-color);\n",
              "    }\n",
              "    80% {\n",
              "      border-color: transparent;\n",
              "      border-right-color: var(--fill-color);\n",
              "      border-bottom-color: var(--fill-color);\n",
              "    }\n",
              "    90% {\n",
              "      border-color: transparent;\n",
              "      border-bottom-color: var(--fill-color);\n",
              "    }\n",
              "  }\n",
              "</style>\n",
              "\n",
              "  <script>\n",
              "    async function quickchart(key) {\n",
              "      const quickchartButtonEl =\n",
              "        document.querySelector('#' + key + ' button');\n",
              "      quickchartButtonEl.disabled = true;  // To prevent multiple clicks.\n",
              "      quickchartButtonEl.classList.add('colab-df-spinner');\n",
              "      try {\n",
              "        const charts = await google.colab.kernel.invokeFunction(\n",
              "            'suggestCharts', [key], {});\n",
              "      } catch (error) {\n",
              "        console.error('Error during call to suggestCharts:', error);\n",
              "      }\n",
              "      quickchartButtonEl.classList.remove('colab-df-spinner');\n",
              "      quickchartButtonEl.classList.add('colab-df-quickchart-complete');\n",
              "    }\n",
              "    (() => {\n",
              "      let quickchartButtonEl =\n",
              "        document.querySelector('#df-edc4f379-d77a-4c12-8995-250dbdd6d676 button');\n",
              "      quickchartButtonEl.style.display =\n",
              "        google.colab.kernel.accessAllowed ? 'block' : 'none';\n",
              "    })();\n",
              "  </script>\n",
              "</div>\n",
              "\n",
              "    </div>\n",
              "  </div>\n"
            ],
            "application/vnd.google.colaboratory.intrinsic+json": {
              "type": "dataframe",
              "summary": "{\n  \"name\": \"display(results\",\n  \"rows\": 50,\n  \"fields\": [\n    {\n      \"column\": \"Filename\",\n      \"properties\": {\n        \"dtype\": \"category\",\n        \"samples\": [\n          \"AbdomenCT/000000.jpeg\"\n        ],\n        \"num_unique_values\": 1,\n        \"semantic_type\": \"\",\n        \"description\": \"\"\n      }\n    },\n    {\n      \"column\": \"Predictions\",\n      \"properties\": {\n        \"dtype\": \"category\",\n        \"samples\": [\n          \"AbdomenCT\"\n        ],\n        \"num_unique_values\": 1,\n        \"semantic_type\": \"\",\n        \"description\": \"\"\n      }\n    }\n  ]\n}"
            }
          },
          "metadata": {}
        }
      ]
    },
    {
      "cell_type": "code",
      "source": [],
      "metadata": {
        "id": "vQvcOJjneUmS"
      },
      "execution_count": null,
      "outputs": []
    }
  ]
}